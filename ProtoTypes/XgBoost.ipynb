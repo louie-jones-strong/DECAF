{
 "cells": [
  {
   "cell_type": "code",
   "execution_count": 1,
   "metadata": {},
   "outputs": [],
   "source": [
    "# to_categorical is used to convert the Y to one-hot encoding\n",
    "from tensorflow.keras.utils import to_categorical\n",
    "\n",
    "# these libraries are used to create the model\n",
    "from tensorflow.keras import models, layers, Input, regularizers, optimizers, callbacks\n",
    "\n",
    "# train_test_split is used to split the training data into training and validation sets\n",
    "from sklearn.model_selection import train_test_split\n",
    "\n",
    "# matplotlib is used to create the plots\n",
    "import seaborn as sns\n",
    "import matplotlib.pyplot as plt\n",
    "\n",
    "# numpy is used for array operations\n",
    "import numpy as np\n",
    "\n",
    "import pandas as pd\n",
    "\n",
    "\n",
    "from tqdm import tqdm\n",
    "\n",
    "from xgboost import XGBClassifier\n",
    "# read data\n",
    "from sklearn.datasets import load_iris\n",
    "from sklearn.model_selection import train_test_split\n",
    "from sklearn.metrics import accuracy_score"
   ]
  },
  {
   "cell_type": "code",
   "execution_count": 36,
   "metadata": {},
   "outputs": [],
   "source": [
    "from tensorflow.keras.datasets import mnist\n",
    "\n",
    "trainData, testData = mnist.load_data(path=\"mnist.npz\")\n",
    "\n",
    "def PreprocessData(images_raw, labels_raw, numClasses):\n",
    "\t# reshape the data\n",
    "\timages = images_raw.reshape(images_raw.shape[0], images_raw.shape[1] * images_raw.shape[2])\n",
    "\t\n",
    "\t# normalize the data\n",
    "\timages = images.astype('float32') / 255\n",
    "\n",
    "\t# shuffle the data\n",
    "\tindices = np.arange(images.shape[0])\n",
    "\tnp.random.shuffle(indices)\n",
    "\timages = images[indices]\n",
    "\tlabels_raw = labels_raw[indices]\n",
    "\n",
    "\t# one-hot encode the labels\n",
    "\ttestLabels_OneHot = to_categorical(labels_raw, num_classes=numClasses)\n",
    "\n",
    "\treturn images, testLabels_OneHot\n",
    "\n",
    "trainData = PreprocessData(trainData[0], trainData[1], 10)\n",
    "testData = PreprocessData(testData[0], testData[1], 10)\n",
    "\n",
    "trainData\n",
    "X = trainData[0]\n",
    "Y = trainData[1]"
   ]
  },
  {
   "cell_type": "code",
   "execution_count": 34,
   "metadata": {},
   "outputs": [],
   "source": [
    "data = load_iris()\n",
    "\n",
    "X = data['data']\n",
    "Y = data['target']"
   ]
  },
  {
   "cell_type": "code",
   "execution_count": 37,
   "metadata": {},
   "outputs": [
    {
     "name": "stderr",
     "output_type": "stream",
     "text": [
      " 10%|█         | 1/10 [00:38<05:48, 38.76s/it]"
     ]
    },
    {
     "name": "stdout",
     "output_type": "stream",
     "text": [
      "Accuracy: 0.95 , 0.89\n"
     ]
    },
    {
     "name": "stderr",
     "output_type": "stream",
     "text": [
      " 20%|██        | 2/10 [01:19<05:18, 39.86s/it]"
     ]
    },
    {
     "name": "stdout",
     "output_type": "stream",
     "text": [
      "Accuracy: 0.95 , 0.89\n"
     ]
    },
    {
     "name": "stderr",
     "output_type": "stream",
     "text": [
      " 30%|███       | 3/10 [02:03<04:53, 42.00s/it]"
     ]
    },
    {
     "name": "stdout",
     "output_type": "stream",
     "text": [
      "Accuracy: 0.95 , 0.89\n"
     ]
    },
    {
     "name": "stderr",
     "output_type": "stream",
     "text": [
      " 40%|████      | 4/10 [02:48<04:17, 42.93s/it]"
     ]
    },
    {
     "name": "stdout",
     "output_type": "stream",
     "text": [
      "Accuracy: 0.95 , 0.89\n"
     ]
    },
    {
     "name": "stderr",
     "output_type": "stream",
     "text": [
      " 50%|█████     | 5/10 [03:43<03:57, 47.50s/it]"
     ]
    },
    {
     "name": "stdout",
     "output_type": "stream",
     "text": [
      "Accuracy: 0.95 , 0.89\n"
     ]
    },
    {
     "name": "stderr",
     "output_type": "stream",
     "text": [
      " 60%|██████    | 6/10 [04:29<03:07, 46.96s/it]"
     ]
    },
    {
     "name": "stdout",
     "output_type": "stream",
     "text": [
      "Accuracy: 0.95 , 0.9\n"
     ]
    },
    {
     "name": "stderr",
     "output_type": "stream",
     "text": [
      " 70%|███████   | 7/10 [05:17<02:21, 47.09s/it]"
     ]
    },
    {
     "name": "stdout",
     "output_type": "stream",
     "text": [
      "Accuracy: 0.95 , 0.89\n"
     ]
    }
   ],
   "source": [
    "\n",
    "\n",
    "\n",
    "scores_Train = []\n",
    "scores_Val = []\n",
    "\n",
    "\n",
    "for i in tqdm(range(10)):\n",
    "\tX_train, X_test, y_train, y_test = train_test_split(X, Y, test_size=.2)\n",
    "\t# create model instance\n",
    "\tbst = XGBClassifier(n_estimators=10, max_depth=5, learning_rate=1, objective='binary:logistic')\n",
    "\t# fit model\n",
    "\tbst.fit(X_train, y_train)\n",
    "\t# make predictions\n",
    "\n",
    "\tpreds = bst.predict(X_train)\n",
    "\tscore_Train = accuracy_score(y_train, preds)\n",
    "\n",
    "\tpreds = bst.predict(X_test)\n",
    "\tscore_Val = accuracy_score(y_test, preds)\n",
    "\t\n",
    "\tprint(f\"Accuracy: {score_Train:.2} , {score_Val:.2}\")\n",
    "\n",
    "\tscores_Train.append(score_Train)\n",
    "\tscores_Val.append(score_Val)\n",
    "\n",
    "print(\"\")\n",
    "print(\"Train\")\n",
    "print(f\"Min: {min(scores_Val):.2}\")\n",
    "print(f\"Max: {max(scores_Val):.2}\")\n",
    "print(f\"Mean: {np.mean(scores_Val):.2}\")\n",
    "print(\"\")\n",
    "print(\"Test\")\n",
    "print(f\"Min: {min(scores_Val):.2}\")\n",
    "print(f\"Max: {max(scores_Val):.2}\")\n",
    "print(f\"Mean: {np.mean(scores_Val):.2}\")"
   ]
  }
 ],
 "metadata": {
  "kernelspec": {
   "display_name": "Python 3",
   "language": "python",
   "name": "python3"
  },
  "language_info": {
   "codemirror_mode": {
    "name": "ipython",
    "version": 3
   },
   "file_extension": ".py",
   "mimetype": "text/x-python",
   "name": "python",
   "nbconvert_exporter": "python",
   "pygments_lexer": "ipython3",
   "version": "3.10.11"
  },
  "orig_nbformat": 4
 },
 "nbformat": 4,
 "nbformat_minor": 2
}
