{
 "cells": [
  {
   "cell_type": "markdown",
   "metadata": {},
   "source": [
    "# Results Formatting\n",
    "\n",
    "This notebook was used for collecting and formatting the results of the experiments, for the evaluation section of the paper."
   ]
  },
  {
   "cell_type": "markdown",
   "metadata": {},
   "source": [
    "### Imports"
   ]
  },
  {
   "cell_type": "code",
   "execution_count": 1,
   "metadata": {},
   "outputs": [],
   "source": [
    "import pandas as pd\n",
    "import os\n",
    "import src.Common.Utils.Config.ConfigHelper as ConfigHelper\n",
    "import shutil\n",
    "import src.Common.EpisodeReplay.EpisodeReplay as EpisodeReplay"
   ]
  },
  {
   "cell_type": "markdown",
   "metadata": {},
   "source": [
    "### Define Constants"
   ]
  },
  {
   "cell_type": "code",
   "execution_count": 9,
   "metadata": {},
   "outputs": [],
   "source": [
    "RunGroup = \"12\"\n",
    "EnvNames = [\"FrozenLake\"]\n",
    "BehaviouralTypes = [\"Human\", \"Curated\", \"HighScore\"]\n",
    "BehaviouralTypesToReview = [\"Human\", \"Curated\"]\n",
    "\n",
    "# manual Review of the results config\n",
    "MaxChoicesPerAgent = 5\n",
    "MaxReplaysPerChoice = 5\n"
   ]
  },
  {
   "cell_type": "code",
   "execution_count": 3,
   "metadata": {},
   "outputs": [
    {
     "name": "stdout",
     "output_type": "stream",
     "text": [
      "Copied Human Demos for: FrozenLake\n",
      "Added 59 Human episodes to FrozenLake\n",
      "Added 23 Curated episodes to FrozenLake\n",
      "Added 82 HighScore episodes to FrozenLake\n"
     ]
    }
   ],
   "source": [
    "# copy demos of each behavioural type to the run group folder\n",
    "def CopyDemos(envName, runGroup):\n",
    "\tfromPath = os.path.join(\"Data\", envName, \"dev\", \"replays\", \"Human\")\n",
    "\ttoPath = os.path.join(\"Data\", envName, runGroup, \"replays\", \"Human\")\n",
    "\n",
    "\tif os.path.exists(toPath):\n",
    "\t\tshutil.rmtree(toPath)\n",
    "\tshutil.copytree(fromPath, toPath)\n",
    "\n",
    "\tprint(\"Copied Human Demos for: \" + envName)\n",
    "\treturn\n",
    "\n",
    "def AddDemoIdsToBehaviour(envName, runGroup, behaviourType):\n",
    "\t# load the results\n",
    "\tstatsPath = os.path.join(\"Data\", envName, runGroup, \"replays\", \"Human\", \"stats.tsv\")\n",
    "\tstats = pd.read_csv(statsPath, sep=\"\\t\")\n",
    "\n",
    "\tlowerBehaviourType = behaviourType.lower()\n",
    "\n",
    "\tstats[\"Behaviour\"] = stats[\"loggerName\"].apply(lambda x: x.split(\"_\")[-2])\n",
    "\n",
    "\tif lowerBehaviourType != \"highscore\":\n",
    "\t\tstats = stats[stats[\"Behaviour\"] == lowerBehaviourType]\n",
    "\n",
    "\tepisodeIds = stats[\"EpisodeId\"].unique().tolist()\n",
    "\n",
    "\tloggerName = \"Human_\" + behaviourType\n",
    "\n",
    "\t# load the json with the episode Ids of the behavioural type\n",
    "\tepisodeIdsPath = os.path.join(\"Data\", envName, runGroup, f\"{behaviourType}_Episodes.json\")\n",
    "\t\n",
    "\tepisodeIdsJson = ConfigHelper.LoadConfig(episodeIdsPath)\n",
    "\tepisodeIdsJson[loggerName] = episodeIds\n",
    "\n",
    "\tConfigHelper.SaveConfig(episodeIdsJson, episodeIdsPath)\n",
    "\n",
    "\tprint(f\"Added {len(episodeIds)} {behaviourType} episodes to {envName}\")\n",
    "\treturn\n",
    "\n",
    "for envName in EnvNames:\n",
    "\tCopyDemos(envName, RunGroup)\n",
    "\n",
    "\tfor behaviourType in BehaviouralTypes:\n",
    "\t\tAddDemoIdsToBehaviour(envName, RunGroup, behaviourType)\n"
   ]
  },
  {
   "cell_type": "markdown",
   "metadata": {},
   "source": [
    "## Collect Replays For Manual Reviewed"
   ]
  },
  {
   "cell_type": "code",
   "execution_count": 5,
   "metadata": {},
   "outputs": [
    {
     "name": "stdout",
     "output_type": "stream",
     "text": [
      "Collected 92 replays to review for Human in FrozenLake\n",
      "Collected 85 replays to review for Curated in FrozenLake\n"
     ]
    }
   ],
   "source": [
    "def LoadReplay(envName, runGroup, agentType, episodeId):\n",
    "\t\n",
    "\tpath = os.path.join(\"Data\", envName, runGroup, \"replays\", agentType, episodeId)\n",
    "\ttry:\n",
    "\t\treplay = EpisodeReplay.EpisodeReplay.LoadFromFolder(path)\n",
    "\t\treturn replay\n",
    "\texcept:\n",
    "\t\treturn None\n",
    "\n",
    "def CollectReplaysToReview(envName, runGroup, behaviourType):\n",
    "\tepisodeIdsPath = os.path.join(\"Data\", envName, runGroup, f\"{behaviourType}_Episodes.json\")\n",
    "\treplays =  ConfigHelper.LoadConfig(episodeIdsPath)\n",
    "\n",
    "\tcolumns = [\"AgentId\", \"Predicted\", \"AgentType\"]\n",
    "\tcolumns += [f\"Replay_{i}\" for i in range(MaxReplaysPerChoice)]\n",
    "\n",
    "\treplaysToReview = pd.DataFrame(columns=columns)\n",
    "\n",
    "\tfor agentId, episodeIds in replays.items():\n",
    "\t\t\n",
    "\t\tagentType = agentId.split(\"_\")[0]\n",
    "\t\tids = []\n",
    "\n",
    "\t\tfor i in range(len(episodeIds)):\n",
    "\t\t\tepisodeId = episodeIds[i]\n",
    "\n",
    "\t\t\treplay = LoadReplay(envName, runGroup, agentType, episodeId)\n",
    "\t\t\tif replay is None:\n",
    "\t\t\t\tcontinue\n",
    "\n",
    "\t\t\tids.append(episodeId)\n",
    "\n",
    "\t\t\tif len(ids) >= MaxReplaysPerChoice or i == len(episodeIds) - 1:\n",
    "\t\t\t\trow = {}\n",
    "\t\t\t\trow[\"AgentId\"] = [agentId]\n",
    "\t\t\t\trow[\"Predicted\"] = [None]\n",
    "\t\t\t\trow[\"AgentType\"] = [agentType]\n",
    "\t\t\t\tfor i, id in enumerate(ids):\n",
    "\t\t\t\t\trow[f\"Replay_{i}\"] = [id]\n",
    "\n",
    "\t\t\t\treplaysToReview = pd.concat([replaysToReview, pd.DataFrame(row)], ignore_index=True)\n",
    "\t\t\t\tids = []\n",
    "\n",
    "\treturn replaysToReview\n",
    "\t\n",
    "for envName in EnvNames:\n",
    "\tfor behaviourType in BehaviouralTypesToReview:\n",
    "\n",
    "\t\treplaysToReview = CollectReplaysToReview(envName, RunGroup, behaviourType)\n",
    "\t\treplaysToReview = replaysToReview.sample(frac=1)\n",
    "\t\treplaysToReviewPath = os.path.join(\"Data\", envName, RunGroup, f\"ReplaysToReview_{behaviourType}.json\")\n",
    "\t\treplaysToReview.to_json(replaysToReviewPath, orient=\"records\", indent=4)\n",
    "\n",
    "\t\tprint(f\"Collected {len(replaysToReview)} replays to review for {behaviourType} in {envName}\")\n"
   ]
  },
  {
   "cell_type": "markdown",
   "metadata": {},
   "source": [
    "## Formate the results of the review"
   ]
  },
  {
   "cell_type": "code",
   "execution_count": 12,
   "metadata": {},
   "outputs": [
    {
     "name": "stdout",
     "output_type": "stream",
     "text": [
      "FrozenLake - Human\n"
     ]
    },
    {
     "data": {
      "text/html": [
       "<div>\n",
       "<style scoped>\n",
       "    .dataframe tbody tr th:only-of-type {\n",
       "        vertical-align: middle;\n",
       "    }\n",
       "\n",
       "    .dataframe tbody tr th {\n",
       "        vertical-align: top;\n",
       "    }\n",
       "\n",
       "    .dataframe thead tr th {\n",
       "        text-align: left;\n",
       "    }\n",
       "\n",
       "    .dataframe thead tr:last-of-type th {\n",
       "        text-align: right;\n",
       "    }\n",
       "</style>\n",
       "<table border=\"1\" class=\"dataframe\">\n",
       "  <thead>\n",
       "    <tr>\n",
       "      <th></th>\n",
       "      <th colspan=\"2\" halign=\"left\">Predicted</th>\n",
       "      <th>Percent</th>\n",
       "      <th>Norm_Percent</th>\n",
       "    </tr>\n",
       "    <tr>\n",
       "      <th></th>\n",
       "      <th>count</th>\n",
       "      <th>sum</th>\n",
       "      <th></th>\n",
       "      <th></th>\n",
       "    </tr>\n",
       "    <tr>\n",
       "      <th>AgentType</th>\n",
       "      <th></th>\n",
       "      <th></th>\n",
       "      <th></th>\n",
       "      <th></th>\n",
       "    </tr>\n",
       "  </thead>\n",
       "  <tbody>\n",
       "    <tr>\n",
       "      <th>HardCoded</th>\n",
       "      <td>0</td>\n",
       "      <td>0.0</td>\n",
       "      <td>nan%</td>\n",
       "      <td>nan%</td>\n",
       "    </tr>\n",
       "    <tr>\n",
       "      <th>Human</th>\n",
       "      <td>0</td>\n",
       "      <td>0.0</td>\n",
       "      <td>nan%</td>\n",
       "      <td>nan%</td>\n",
       "    </tr>\n",
       "    <tr>\n",
       "      <th>ML</th>\n",
       "      <td>0</td>\n",
       "      <td>0.0</td>\n",
       "      <td>nan%</td>\n",
       "      <td>nan%</td>\n",
       "    </tr>\n",
       "    <tr>\n",
       "      <th>Random</th>\n",
       "      <td>0</td>\n",
       "      <td>0.0</td>\n",
       "      <td>nan%</td>\n",
       "      <td>nan%</td>\n",
       "    </tr>\n",
       "  </tbody>\n",
       "</table>\n",
       "</div>"
      ],
      "text/plain": [
       "          Predicted      Percent Norm_Percent\n",
       "              count  sum                     \n",
       "AgentType                                    \n",
       "HardCoded         0  0.0    nan%         nan%\n",
       "Human             0  0.0    nan%         nan%\n",
       "ML                0  0.0    nan%         nan%\n",
       "Random            0  0.0    nan%         nan%"
      ]
     },
     "metadata": {},
     "output_type": "display_data"
    },
    {
     "name": "stdout",
     "output_type": "stream",
     "text": [
      "FrozenLake - Curated\n"
     ]
    },
    {
     "data": {
      "text/html": [
       "<div>\n",
       "<style scoped>\n",
       "    .dataframe tbody tr th:only-of-type {\n",
       "        vertical-align: middle;\n",
       "    }\n",
       "\n",
       "    .dataframe tbody tr th {\n",
       "        vertical-align: top;\n",
       "    }\n",
       "\n",
       "    .dataframe thead tr th {\n",
       "        text-align: left;\n",
       "    }\n",
       "\n",
       "    .dataframe thead tr:last-of-type th {\n",
       "        text-align: right;\n",
       "    }\n",
       "</style>\n",
       "<table border=\"1\" class=\"dataframe\">\n",
       "  <thead>\n",
       "    <tr>\n",
       "      <th></th>\n",
       "      <th colspan=\"2\" halign=\"left\">Predicted</th>\n",
       "      <th>Percent</th>\n",
       "      <th>Norm_Percent</th>\n",
       "    </tr>\n",
       "    <tr>\n",
       "      <th></th>\n",
       "      <th>count</th>\n",
       "      <th>sum</th>\n",
       "      <th></th>\n",
       "      <th></th>\n",
       "    </tr>\n",
       "    <tr>\n",
       "      <th>AgentType</th>\n",
       "      <th></th>\n",
       "      <th></th>\n",
       "      <th></th>\n",
       "      <th></th>\n",
       "    </tr>\n",
       "  </thead>\n",
       "  <tbody>\n",
       "    <tr>\n",
       "      <th>HardCoded</th>\n",
       "      <td>0</td>\n",
       "      <td>0.0</td>\n",
       "      <td>nan%</td>\n",
       "      <td>nan%</td>\n",
       "    </tr>\n",
       "    <tr>\n",
       "      <th>Human</th>\n",
       "      <td>0</td>\n",
       "      <td>0.0</td>\n",
       "      <td>nan%</td>\n",
       "      <td>nan%</td>\n",
       "    </tr>\n",
       "    <tr>\n",
       "      <th>ML</th>\n",
       "      <td>0</td>\n",
       "      <td>0.0</td>\n",
       "      <td>nan%</td>\n",
       "      <td>nan%</td>\n",
       "    </tr>\n",
       "    <tr>\n",
       "      <th>Random</th>\n",
       "      <td>0</td>\n",
       "      <td>0.0</td>\n",
       "      <td>nan%</td>\n",
       "      <td>nan%</td>\n",
       "    </tr>\n",
       "  </tbody>\n",
       "</table>\n",
       "</div>"
      ],
      "text/plain": [
       "          Predicted      Percent Norm_Percent\n",
       "              count  sum                     \n",
       "AgentType                                    \n",
       "HardCoded         0  0.0    nan%         nan%\n",
       "Human             0  0.0    nan%         nan%\n",
       "ML                0  0.0    nan%         nan%\n",
       "Random            0  0.0    nan%         nan%"
      ]
     },
     "metadata": {},
     "output_type": "display_data"
    }
   ],
   "source": [
    "def LoadReplaysToReview(envName, runGroup, behaviourType):\n",
    "\treplaysToReviewPath = os.path.join(\"Data\", envName, runGroup, f\"ReplaysToReview_{behaviourType}.json\")\n",
    "\treplaysToReview = pd.read_json(replaysToReviewPath)\n",
    "\n",
    "\tgrouped = replaysToReview.groupby(\"AgentType\").aggregate({\"Predicted\": [\"count\", \"sum\"]})\n",
    "\n",
    "\n",
    "\tgrouped[\"Percent\"] = grouped[\"Predicted\"][\"sum\"] / grouped[\"Predicted\"][\"count\"]\n",
    "\tgrouped[\"Norm_Percent\"] = grouped[\"Percent\"] / grouped[\"Percent\"][\"Human\"]\n",
    "\n",
    "\t# format the percent columns\n",
    "\tgrouped[\"Percent\"] = grouped[\"Percent\"].apply(lambda x: f\"{x:.0%}\")\n",
    "\tgrouped[\"Norm_Percent\"] = grouped[\"Norm_Percent\"].apply(lambda x: f\"{x:.0%}\")\n",
    "\n",
    "\treturn grouped\n",
    "\n",
    "\n",
    "for envName in EnvNames:\n",
    "\tfor behaviourType in BehaviouralTypesToReview:\n",
    "\t\tgrouped = LoadReplaysToReview(envName, RunGroup, behaviourType)\n",
    "\t\tprint(f\"{envName} - {behaviourType}\")\n",
    "\t\tdisplay(grouped)"
   ]
  }
 ],
 "metadata": {
  "kernelspec": {
   "display_name": ".venv",
   "language": "python",
   "name": "python3"
  },
  "language_info": {
   "codemirror_mode": {
    "name": "ipython",
    "version": 3
   },
   "file_extension": ".py",
   "mimetype": "text/x-python",
   "name": "python",
   "nbconvert_exporter": "python",
   "pygments_lexer": "ipython3",
   "version": "3.8.10"
  },
  "orig_nbformat": 4
 },
 "nbformat": 4,
 "nbformat_minor": 2
}
