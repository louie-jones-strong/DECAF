{
 "cells": [
  {
   "cell_type": "code",
   "execution_count": 1,
   "metadata": {},
   "outputs": [],
   "source": [
    "import json\n",
    "import os\n",
    "import numpy as np\n",
    "\n",
    "import src.Environments.BaseEnv as BaseEnv\n",
    "import src.Utils.UserInputHelper as UI\n",
    "from src.DataManager.DataManager import DataManager\n",
    "from src.Utils.PathHelper import GetRootPath\n",
    "\n",
    "import src.DataManager.DataColumnTypes as DCT\n",
    "from src.Agents.Predictors import DecisonTreePredictor"
   ]
  },
  {
   "cell_type": "code",
   "execution_count": 2,
   "metadata": {},
   "outputs": [
    {
     "name": "stdout",
     "output_type": "stream",
     "text": [
      "{'Name': 'FrozenLake', 'EnvType': 'Gym', 'GymConfig': {'GymID': 'FrozenLake-v1', 'RenderMode': 'human', 'kwargs': {'is_slippery': False}}, 'IsDeterministic': False, 'MaxAgents': 1, 'MaxSteps': 50, 'MaxEpisodes': 1000, 'AgentConfig': {'Human': {'FPS': 10, 'Controls': {'left': 0, 'down': 1, 'right': 2, 'up': 3}}}}\n"
     ]
    }
   ],
   "source": [
    "configPath = os.path.join(GetRootPath(), \"Config\", \"Envs\")\n",
    "envConfigPath = os.path.join(configPath, os.listdir(configPath)[2])\n",
    "# load config\n",
    "with open(envConfigPath) as f:\n",
    "\tconfig = json.load(f)\n",
    "\n",
    "print(config)"
   ]
  },
  {
   "cell_type": "code",
   "execution_count": 3,
   "metadata": {},
   "outputs": [
    {
     "name": "stdout",
     "output_type": "stream",
     "text": [
      "replay buffer size: 7600\n"
     ]
    }
   ],
   "source": [
    "# load env\n",
    "env = BaseEnv.GetEnv(config)\n",
    "\n",
    "path = os.path.join(GetRootPath(), \"data\", config[\"Name\"])\n",
    "\n",
    "# load data manager\n",
    "dataManager = DataManager()\n",
    "dataManager.Setup(config, env)\n",
    "dataManager.Load(path)\n",
    "\n",
    "print(f\"replay buffer size: {len(dataManager._ReplayBuffer)}\")"
   ]
  },
  {
   "cell_type": "code",
   "execution_count": 4,
   "metadata": {},
   "outputs": [],
   "source": [
    "# create predictor\n",
    "\n",
    "xColumns = [DCT.DataColumnTypes.CurrentState, DCT.DataColumnTypes.Action]\n",
    "yColumns = [DCT.DataColumnTypes.Terminated]\n",
    "\n",
    "predictor = DecisonTreePredictor.DecisonTreePredictor(xColumns, yColumns)"
   ]
  },
  {
   "cell_type": "code",
   "execution_count": 5,
   "metadata": {},
   "outputs": [
    {
     "name": "stdout",
     "output_type": "stream",
     "text": [
      "x: [[ 0  1]\n",
      " [ 4  3]\n",
      " [ 0  0]\n",
      " ...\n",
      " [14  2]\n",
      " [ 0  2]\n",
      " [ 1  1]]\n",
      "y: [0 0 0 ... 1 0 1]\n"
     ]
    }
   ],
   "source": [
    "x, y = predictor._GetSamples()\n",
    "\n",
    "states = x[0]\n",
    "actions = x[1]\n",
    "x = np.array([np.array([states[i], actions[i]]) for i in range(len(states))])\n",
    "\n",
    "y = np.array([int(i) for i in y[0]])\n",
    "print(f\"x: {x}\")\n",
    "print(f\"y: {y}\")"
   ]
  },
  {
   "cell_type": "code",
   "execution_count": 6,
   "metadata": {},
   "outputs": [],
   "source": [
    "predictor.Train(x, y)"
   ]
  },
  {
   "cell_type": "code",
   "execution_count": 9,
   "metadata": {},
   "outputs": [
    {
     "name": "stdout",
     "output_type": "stream",
     "text": [
      "predictions: [0 0 0 ... 1 0 1]\n"
     ]
    }
   ],
   "source": [
    "predictions = predictor.PredictValue(x)\n",
    "print(f\"predictions: {predictions}\")"
   ]
  },
  {
   "cell_type": "code",
   "execution_count": 8,
   "metadata": {},
   "outputs": [
    {
     "data": {
      "image/png": "[encoded data removed]",
      "text/plain": [
       "<Figure size 640x480 with 2 Axes>"
      ]
     },
     "metadata": {},
     "output_type": "display_data"
    }
   ],
   "source": [
    "\n",
    "\n",
    "# create confusion matrix\n",
    "\n",
    "def CreateConfusionMatrix(y, predictions):\n",
    "\t# true positive\n",
    "\ttp = np.sum(np.logical_and(predictions == 1, y == 1))\n",
    "\t# true negative\n",
    "\ttn = np.sum(np.logical_and(predictions == 0, y == 0))\n",
    "\t# false positive\n",
    "\tfp = np.sum(np.logical_and(predictions == 1, y == 0))\n",
    "\t# false negative\n",
    "\tfn = np.sum(np.logical_and(predictions == 0, y == 1))\n",
    "\n",
    "\treturn tp, tn, fp, fn\n",
    "\n",
    "# plot the confusion matrix\n",
    "import matplotlib.pyplot as plt\n",
    "import seaborn as sns\n",
    "\n",
    "def PlotConfusionMatrix(tp, tn, fp, fn):\n",
    "\tdata = np.array([[tp, fp], [fn, tn]])\n",
    "\tax = sns.heatmap(data, annot=True, fmt=\"d\", cmap=\"YlGnBu\")\n",
    "\n",
    "\t# labels, title and ticks\n",
    "\tax.set_xlabel('Predicted labels')\n",
    "\tax.set_ylabel('True labels')\n",
    "\n",
    "\n",
    "\tplt.show()\n",
    "\treturn\n",
    "\n",
    "tp, tn, fp, fn = CreateConfusionMatrix(y, predictions)\n",
    "PlotConfusionMatrix(tp, tn, fp, fn)"
   ]
  }
 ],
 "metadata": {
  "kernelspec": {
   "display_name": "Python 3",
   "language": "python",
   "name": "python3"
  },
  "language_info": {
   "codemirror_mode": {
    "name": "ipython",
    "version": 3
   },
   "file_extension": ".py",
   "mimetype": "text/x-python",
   "name": "python",
   "nbconvert_exporter": "python",
   "pygments_lexer": "ipython3",
   "version": "3.8.10"
  },
  "orig_nbformat": 4
 },
 "nbformat": 4,
 "nbformat_minor": 2
}
